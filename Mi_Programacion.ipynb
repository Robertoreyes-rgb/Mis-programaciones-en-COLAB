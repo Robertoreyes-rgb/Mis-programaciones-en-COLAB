{
  "nbformat": 4,
  "nbformat_minor": 0,
  "metadata": {
    "colab": {
      "provenance": [],
      "collapsed_sections": [],
      "authorship_tag": "ABX9TyNlcxsqeQ203c9qjk1M4p8Z",
      "include_colab_link": true
    },
    "kernelspec": {
      "name": "python3",
      "display_name": "Python 3"
    },
    "language_info": {
      "name": "python"
    },
    "gpuClass": "standard"
  },
  "cells": [
    {
      "cell_type": "markdown",
      "metadata": {
        "id": "view-in-github",
        "colab_type": "text"
      },
      "source": [
        "<a href=\"https://colab.research.google.com/github/USIS032421/Mis-programaciones-en-COLAB/blob/main/Mi_Programacion.ipynb\" target=\"_parent\"><img src=\"https://colab.research.google.com/assets/colab-badge.svg\" alt=\"Open In Colab\"/></a>"
      ]
    },
    {
      "cell_type": "code",
      "source": [
        "print(\"Hola Mundo\")"
      ],
      "metadata": {
        "colab": {
          "base_uri": "https://localhost:8080/"
        },
        "id": "9ElYkajqjtpq",
        "outputId": "12330612-95e1-4de0-9ebb-e404778519fc"
      },
      "execution_count": null,
      "outputs": [
        {
          "output_type": "stream",
          "name": "stdout",
          "text": [
            "Hola Mundo\n"
          ]
        }
      ]
    },
    {
      "cell_type": "code",
      "source": [
        "print(\"Mi nombre es: \",\"Roberto Francisco\")"
      ],
      "metadata": {
        "colab": {
          "base_uri": "https://localhost:8080/"
        },
        "id": "Ob106wlek2kI",
        "outputId": "c6aa6b25-0260-41fa-8b88-cc560c08b7d1"
      },
      "execution_count": null,
      "outputs": [
        {
          "output_type": "stream",
          "name": "stdout",
          "text": [
            "Mi nombre es:  Roberto Francisco\n"
          ]
        }
      ]
    },
    {
      "cell_type": "code",
      "source": [
        "nombre = \"Roberto Reyes\"\n",
        "print(\"Hola \", nombre)\n",
        "\n",
        "edad = 25\n",
        "print (\"Tu edad es: \", nombre)"
      ],
      "metadata": {
        "colab": {
          "base_uri": "https://localhost:8080/"
        },
        "id": "5SIEkfVlluUW",
        "outputId": "0d059e46-9e75-40dd-fe44-2ef377dc2c0a"
      },
      "execution_count": null,
      "outputs": [
        {
          "output_type": "stream",
          "name": "stdout",
          "text": [
            "Hola  Roberto Reyes\n",
            "Tu edad es:  Roberto Reyes\n"
          ]
        }
      ]
    },
    {
      "cell_type": "code",
      "source": [
        "nombre = \"Roberto Reyes\"\n",
        "print (\"Tu nombre es: \", nombre, \" longitud de tu nombre: \", len(nombre), \"Iniciales: \", nombre[0],nombre[5])"
      ],
      "metadata": {
        "colab": {
          "base_uri": "https://localhost:8080/"
        },
        "id": "c9WCeUrnmMAZ",
        "outputId": "ccff7b9c-5115-4ae4-fee1-b7483b1de198"
      },
      "execution_count": null,
      "outputs": [
        {
          "output_type": "stream",
          "name": "stdout",
          "text": [
            "Tu nombre es:  Roberto Reyes  longitud de tu nombre:  13 Iniciales:  R t\n"
          ]
        }
      ]
    },
    {
      "cell_type": "code",
      "source": [
        "num1= 5\n",
        "num2= 4.6\n",
        "resp= num1 + num2\n",
        "print(\"la suma de num1:\",num1,\"+ num2:\",num2,\"es igual a:\",resp)"
      ],
      "metadata": {
        "colab": {
          "base_uri": "https://localhost:8080/"
        },
        "id": "R9hPLO-wjSal",
        "outputId": "0c23acc9-191d-44d3-836a-1c4fa37fed70"
      },
      "execution_count": null,
      "outputs": [
        {
          "output_type": "stream",
          "name": "stdout",
          "text": [
            "la suma de num1: 5 + num2: 4.6 es igual a: 9.6\n"
          ]
        }
      ]
    },
    {
      "cell_type": "code",
      "source": [
        "num1= 72\n",
        "num2= 38\n",
        "resp = num1 - num2\n",
        "print(\"La resta de num1:\",num1,\"- num2:\",num2, \"es igual a:\",resp)"
      ],
      "metadata": {
        "colab": {
          "base_uri": "https://localhost:8080/"
        },
        "id": "s2FfDpwZkmgs",
        "outputId": "c50e53a9-6576-468b-d230-9590946c6fb4"
      },
      "execution_count": null,
      "outputs": [
        {
          "output_type": "stream",
          "name": "stdout",
          "text": [
            "La resta de num1: 72 - num2: 38 es igual a: 34\n"
          ]
        }
      ]
    },
    {
      "cell_type": "code",
      "source": [
        "num1= float (input(\"Ingrese un numero entero: \"))\n",
        "num2= float (input (\"Ingrese otro Num decimal: \"))\n",
        "resp = num1 + num2\n",
        "print(\"SUma\",resp)"
      ],
      "metadata": {
        "colab": {
          "base_uri": "https://localhost:8080/"
        },
        "id": "-A8n-a8Qlpk8",
        "outputId": "e77d50be-4293-428d-c431-2241e126fdf2"
      },
      "execution_count": null,
      "outputs": [
        {
          "output_type": "stream",
          "name": "stdout",
          "text": [
            "Ingrese un numero entero: 5\n",
            "Ingrese otro Num decimal: 4.5\n",
            "SUma 9.5\n"
          ]
        }
      ]
    },
    {
      "cell_type": "code",
      "source": [
        "num1= 65\n",
        "num2= 17\n",
        "resp = num1 * num2\n",
        "print (\"La multiplicacion de num1:\",num1,\"* num2:\",num2,\"es igual a\",resp)"
      ],
      "metadata": {
        "colab": {
          "base_uri": "https://localhost:8080/"
        },
        "id": "VlSOOTs0n5uL",
        "outputId": "bd0f58f9-aa0c-4ba7-ec51-05751e78e5ae"
      },
      "execution_count": null,
      "outputs": [
        {
          "output_type": "stream",
          "name": "stdout",
          "text": [
            "La multiplicacion de num1: 65 * num2: 17 es igual a 1105\n"
          ]
        }
      ]
    },
    {
      "cell_type": "code",
      "source": [
        "nombre = input(\"Dime tu nombre: \")\n",
        "print(nombre, type(nombre),len(nombre))\n",
        "print(nombre[0]),(nombre[1]),(nombre[2]),(nombre[3])"
      ],
      "metadata": {
        "colab": {
          "base_uri": "https://localhost:8080/"
        },
        "id": "eKh5_GN6pBUc",
        "outputId": "d5e5d28c-8515-4c26-b9ce-d986a388d162"
      },
      "execution_count": null,
      "outputs": [
        {
          "output_type": "stream",
          "name": "stdout",
          "text": [
            "Dime tu nombre: Fran\n",
            "Fran <class 'str'> 4\n",
            "F\n"
          ]
        },
        {
          "output_type": "execute_result",
          "data": {
            "text/plain": [
              "(None, 'r', 'a', 'n')"
            ]
          },
          "metadata": {},
          "execution_count": 16
        }
      ]
    },
    {
      "cell_type": "code",
      "source": [
        "resp = 4 + 4 * 6 / 2 + 1\n",
        "print(resp)"
      ],
      "metadata": {
        "colab": {
          "base_uri": "https://localhost:8080/"
        },
        "id": "_q9KVjMptLCe",
        "outputId": "4f13cd8e-3931-4308-ec7a-4bb1f74f97b5"
      },
      "execution_count": null,
      "outputs": [
        {
          "output_type": "stream",
          "name": "stdout",
          "text": [
            "17.0\n"
          ]
        }
      ]
    },
    {
      "cell_type": "code",
      "source": [
        "gustaProgramacion = True #False\n",
        "print(\"Te gusta programar: \",gustaProgramacion)\n",
        "\n",
        "gustaDiseño = False\n",
        "print(\"Te gusta Disenar?: \",gustaDiseño)\n"
      ],
      "metadata": {
        "colab": {
          "base_uri": "https://localhost:8080/"
        },
        "id": "mJ3RrAoIuJzC",
        "outputId": "a83a214f-5f80-47da-a1c1-d5e16a07547f"
      },
      "execution_count": null,
      "outputs": [
        {
          "output_type": "stream",
          "name": "stdout",
          "text": [
            "Te gusta programar:  True\n",
            "Te gusta Disenar?:  False\n"
          ]
        }
      ]
    },
    {
      "cell_type": "code",
      "source": [
        "def suma(num1, num2):\n",
        "  return num1 + num2\n",
        "  print(\"la suma de 5 + 7 = \"), suma(5,7)\n"
      ],
      "metadata": {
        "id": "dK-CNBQ3wJPp"
      },
      "execution_count": null,
      "outputs": []
    },
    {
      "cell_type": "code",
      "source": [
        "def suma(num1, num2):\n",
        " return num1 + num2\n",
        " num1 = float(input(\"Dime un numero:\" ))\n",
        " num2 = float(input(\"Dime otro numero\"))\n",
        "\n",
        " print(\"La suma es:\", suma,num1 + num2)\n",
        " "
      ],
      "metadata": {
        "id": "LAY2YPjdy1fR"
      },
      "execution_count": null,
      "outputs": []
    },
    {
      "cell_type": "code",
      "source": [
        "(num1 = float (input(\"num1: \"))\n",
        "num2 = float (input(\"num2: \"))\n",
        "print (\"La respuesta es: \", suma(num1, num2))\n",
        "\n"
      ],
      "metadata": {
        "id": "1Ft98SBOg2OX"
      },
      "execution_count": null,
      "outputs": []
    },
    {
      "cell_type": "code",
      "source": [
        "lista = [2,7,8,6,9]"
      ],
      "metadata": {
        "id": "J0F5N6cWjExf"
      },
      "execution_count": null,
      "outputs": []
    },
    {
      "cell_type": "code",
      "source": [
        "cuadrado = lambda num: num**2"
      ],
      "metadata": {
        "id": "4zxN3bBWjegs"
      },
      "execution_count": null,
      "outputs": []
    },
    {
      "cell_type": "code",
      "source": [
        "print(type (cuadrado))"
      ],
      "metadata": {
        "colab": {
          "base_uri": "https://localhost:8080/"
        },
        "id": "OlMbn8_Um03Q",
        "outputId": "bee79c6d-8b87-4812-ad19-1185d3f65569"
      },
      "execution_count": null,
      "outputs": [
        {
          "output_type": "stream",
          "name": "stdout",
          "text": [
            "<class 'function'>\n"
          ]
        }
      ]
    },
    {
      "cell_type": "code",
      "source": [
        "cubo = lambda num: num**3"
      ],
      "metadata": {
        "id": "yBgOCKLJmhPq"
      },
      "execution_count": null,
      "outputs": []
    },
    {
      "cell_type": "code",
      "source": [
        "potencia = lambda num,n: num**n"
      ],
      "metadata": {
        "id": "Ms1luPzbmn0i"
      },
      "execution_count": null,
      "outputs": []
    },
    {
      "cell_type": "code",
      "source": [
        "print(\"Lista: \", lista, \" al cuadrado: \", list( map(cuadrado,lista) ), \" al cubo: \", list(map(cubo, lista)) )"
      ],
      "metadata": {
        "colab": {
          "base_uri": "https://localhost:8080/"
        },
        "id": "5RBcgvAmj7-W",
        "outputId": "baf1db46-7d59-46af-8b69-41edf7d35b04"
      },
      "execution_count": null,
      "outputs": [
        {
          "output_type": "stream",
          "name": "stdout",
          "text": [
            "Lista:  [2, 7, 8, 6, 9]  al cuadrado:  [4, 49, 64, 36, 81]  al cubo:  [8, 343, 512, 216, 729]\n"
          ]
        }
      ]
    },
    {
      "cell_type": "code",
      "source": [
        "print( \"2 al cubo es: \", potencia(4, 5) )"
      ],
      "metadata": {
        "id": "-5sQJsnflCg3",
        "outputId": "35c3aa4d-5c76-43b3-89c7-ebfa1c7db4e2",
        "colab": {
          "base_uri": "https://localhost:8080/"
        }
      },
      "execution_count": null,
      "outputs": [
        {
          "output_type": "stream",
          "name": "stdout",
          "text": [
            "2 al cubo es:  1024\n"
          ]
        }
      ]
    },
    {
      "cell_type": "code",
      "source": [
        "print(\"Lista Original: \", lista, \" al cubo: \", list(map(lambda num: num**3, lista)) )"
      ],
      "metadata": {
        "id": "d3BlCSHCl8Ak",
        "outputId": "87d7eb41-9928-41f2-c002-e8925c1aae44",
        "colab": {
          "base_uri": "https://localhost:8080/"
        }
      },
      "execution_count": null,
      "outputs": [
        {
          "output_type": "stream",
          "name": "stdout",
          "text": [
            "Lista Original:  [2, 7, 8, 6, 9]  al cubo:  [8, 343, 512, 216, 729]\n"
          ]
        }
      ]
    },
    {
      "cell_type": "code",
      "source": [
        "fpares = lambda num: num%2==0"
      ],
      "metadata": {
        "id": "SvG8Izv0n6W4"
      },
      "execution_count": null,
      "outputs": []
    },
    {
      "cell_type": "code",
      "source": [
        "fimpares = lambda num: num%2!=0"
      ],
      "metadata": {
        "id": "kAJakkZPpCvd"
      },
      "execution_count": null,
      "outputs": []
    },
    {
      "cell_type": "code",
      "source": [
        "print(\"Lista original: \", lista, \" solo pares: \", list(filter(fpares, lista)), \" los impares: \", list(filter(fimpares, lista)) )"
      ],
      "metadata": {
        "id": "WyYZMdvPoOUX",
        "outputId": "089226ce-87b9-4f7b-a245-a95a9d3dfcf8",
        "colab": {
          "base_uri": "https://localhost:8080/"
        }
      },
      "execution_count": null,
      "outputs": [
        {
          "output_type": "stream",
          "name": "stdout",
          "text": [
            "Lista original:  [2, 7, 8, 6, 9]  solo pares:  [2, 8, 6]  los impares:  [7, 9]\n"
          ]
        }
      ]
    },
    {
      "cell_type": "code",
      "source": [
        "  suma = lambda a,b: a+b"
      ],
      "metadata": {
        "id": "gru55oQRt-w8"
      },
      "execution_count": null,
      "outputs": []
    },
    {
      "cell_type": "code",
      "source": [
        "#import functools\n",
        "print(\"Lista original: \", lista, \"la suma: \", functools.reduce(suma, lista), \"media Aritmetica: \", functools.reduce(suma,lista)/len(lista) )"
      ],
      "metadata": {
        "colab": {
          "base_uri": "https://localhost:8080/"
        },
        "id": "7mD35leouJVs",
        "outputId": "2c83d5f7-6286-424b-ea1b-22da5e12cab5"
      },
      "execution_count": null,
      "outputs": [
        {
          "output_type": "stream",
          "name": "stdout",
          "text": [
            "Lista original:  [2, 7, 8, 6, 9] la suma:  32 media Aritmetica:  6.4\n"
          ]
        }
      ]
    },
    {
      "cell_type": "code",
      "source": [
        "c= 27"
      ],
      "metadata": {
        "id": "Sf0wlQD-kLqP"
      },
      "execution_count": null,
      "outputs": []
    },
    {
      "cell_type": "code",
      "source": [
        "def convertirCaF(c):\n",
        "  return (c*9/5) + 32"
      ],
      "metadata": {
        "id": "eJcG_5ZDmW_m"
      },
      "execution_count": null,
      "outputs": []
    },
    {
      "cell_type": "code",
      "source": [
        "print(\"Celsius a F: \", convertirCaF(c))"
      ],
      "metadata": {
        "colab": {
          "base_uri": "https://localhost:8080/"
        },
        "id": "kybl8hb3oRC9",
        "outputId": "1d201e06-80a4-4cbb-d3f4-b1ca8e4b4737"
      },
      "execution_count": null,
      "outputs": [
        {
          "output_type": "stream",
          "name": "stdout",
          "text": [
            "Celsius a F:  80.6\n"
          ]
        }
      ]
    },
    {
      "cell_type": "code",
      "source": [
        "gradosCiudades = [27, 30, 32, 35, 40, 45]"
      ],
      "metadata": {
        "id": "M9tntgxRpf-2"
      },
      "execution_count": null,
      "outputs": []
    },
    {
      "cell_type": "code",
      "source": [
        "print(gradosCiudades, \"Respuesta: \", list(map(convertirCaF, gradosCiudades)) )"
      ],
      "metadata": {
        "colab": {
          "base_uri": "https://localhost:8080/"
        },
        "id": "nabygKeip-6d",
        "outputId": "eaf4129f-e723-46df-c67c-a0cee01b10b5"
      },
      "execution_count": null,
      "outputs": [
        {
          "output_type": "stream",
          "name": "stdout",
          "text": [
            "[27, 30, 32, 35, 40, 45] Respuesta:  [80.6, 86.0, 89.6, 95.0, 104.0, 113.0]\n"
          ]
        }
      ]
    },
    {
      "cell_type": "code",
      "source": [
        "f= 80.6"
      ],
      "metadata": {
        "id": "I8vHGw0ZsF5I"
      },
      "execution_count": null,
      "outputs": []
    },
    {
      "cell_type": "code",
      "source": [
        "def convertirFaC(f):\n",
        "  return (f-32) * 5/9"
      ],
      "metadata": {
        "id": "Yz5qTssDrojM"
      },
      "execution_count": null,
      "outputs": []
    },
    {
      "cell_type": "code",
      "source": [
        "print(\"farenheit a C: \", convertirFaC(f))"
      ],
      "metadata": {
        "colab": {
          "base_uri": "https://localhost:8080/"
        },
        "id": "1k-HuP74sxc0",
        "outputId": "2d15a982-a357-4406-fed4-ba2c55323e4a"
      },
      "execution_count": null,
      "outputs": [
        {
          "output_type": "stream",
          "name": "stdout",
          "text": [
            "farenheit a C:  26.999999999999996\n"
          ]
        }
      ]
    },
    {
      "cell_type": "code",
      "source": [
        "gradosf = [80.6, 86.0, 89.6, 95.0, 104.0, 113.0]"
      ],
      "metadata": {
        "id": "pqrhG4DmvMWG"
      },
      "execution_count": null,
      "outputs": []
    },
    {
      "cell_type": "code",
      "source": [
        "print(gradosf, \"Respuesta: \", list(map(convertirFaC, gradosCiudadesclandesitas)) )"
      ],
      "metadata": {
        "colab": {
          "base_uri": "https://localhost:8080/"
        },
        "id": "1N4PSey6vqXX",
        "outputId": "6febad4b-62af-4f9b-93c8-813b4fb5cc0a"
      },
      "execution_count": null,
      "outputs": [
        {
          "output_type": "stream",
          "name": "stdout",
          "text": [
            "[80.6, 86.0, 89.6, 95.0, 104.0, 113.0] Respuesta:  [26.999999999999996, 30.0, 32.0, 35.0, 40.0, 45.0]\n"
          ]
        }
      ]
    },
    {
      "cell_type": "code",
      "source": [
        "print(gradosf, \"Respuesta: \", list(map(lambda f: (f-32)*5/9, gradosf)) )"
      ],
      "metadata": {
        "colab": {
          "base_uri": "https://localhost:8080/"
        },
        "outputId": "61fbea90-a164-45fb-c25c-95d04ebd376a",
        "id": "UMyxy84j2pde"
      },
      "execution_count": null,
      "outputs": [
        {
          "output_type": "stream",
          "name": "stdout",
          "text": [
            "[80.6, 86.0, 89.6, 95.0, 104.0, 113.0] Respuesta:  [26.999999999999996, 30.0, 32.0, 35.0, 40.0, 45.0]\n"
          ]
        }
      ]
    },
    {
      "cell_type": "code",
      "source": [
        "c= 27"
      ],
      "metadata": {
        "id": "2NVpWwnjxElN"
      },
      "execution_count": null,
      "outputs": []
    },
    {
      "cell_type": "code",
      "source": [
        "convertirFaaCe = lambda c: (f-32) * 5/9\n",
        "c= float(input(\"ingrese Grado C:\"))\n",
        "print(\"farenheit a C: \", convertirFaaCe(c))"
      ],
      "metadata": {
        "colab": {
          "base_uri": "https://localhost:8080/"
        },
        "id": "qUQPdspwxGfE",
        "outputId": "73f6d5ca-9c5c-42a9-e32a-9c6ee853c8a6"
      },
      "execution_count": null,
      "outputs": [
        {
          "output_type": "stream",
          "name": "stdout",
          "text": [
            "ingrese Grado C:32\n",
            "farenheit a C:  26.999999999999996\n"
          ]
        }
      ]
    },
    {
      "cell_type": "markdown",
      "source": [
        "**Tarea**\n",
        "*Hacer un algoritmo en python que convierta de grados celsius a kelvin y viceversa, usando funciones de usuario y lambda.\n",
        "\n",
        "*Hacer un algoritmo en python que encuentre la nota final del ciiclo d e una Materia en particular usando funciones de usuario y lambda."
      ],
      "metadata": {
        "id": "OmMVJs7Q0Vpg"
      }
    },
    {
      "cell_type": "code",
      "source": [
        "c= 27"
      ],
      "metadata": {
        "id": "QdFchT0gpMLf"
      },
      "execution_count": null,
      "outputs": []
    },
    {
      "cell_type": "code",
      "source": [
        "def convertirCaK(c):\n",
        "  return (c+273.15)"
      ],
      "metadata": {
        "id": "ElayeGnTpPRt"
      },
      "execution_count": null,
      "outputs": []
    },
    {
      "cell_type": "code",
      "source": [
        "print(\"Celcius a K: \", convertirCaK(c))"
      ],
      "metadata": {
        "colab": {
          "base_uri": "https://localhost:8080/"
        },
        "id": "XFoM9M-2qoPN",
        "outputId": "1ce48575-9681-474d-ae43-b34a377ebdfe"
      },
      "execution_count": null,
      "outputs": [
        {
          "output_type": "stream",
          "name": "stdout",
          "text": [
            "Celcius a K:  300.15\n"
          ]
        }
      ]
    },
    {
      "cell_type": "code",
      "source": [
        "k=273.15"
      ],
      "metadata": {
        "id": "hA3OvMlAq3re"
      },
      "execution_count": null,
      "outputs": []
    },
    {
      "cell_type": "code",
      "source": [
        "def convertirKaC(k):\n",
        "  return (k-273.15) - 273.1"
      ],
      "metadata": {
        "id": "goeoVAjfrHRd"
      },
      "execution_count": null,
      "outputs": []
    },
    {
      "cell_type": "code",
      "source": [
        "print(\"Kelvin a C: \",convertirKaC(k))"
      ],
      "metadata": {
        "colab": {
          "base_uri": "https://localhost:8080/"
        },
        "id": "9ObOjIC_rhRt",
        "outputId": "7a259172-935d-49b9-abee-a6a65c83ae0d"
      },
      "execution_count": null,
      "outputs": [
        {
          "output_type": "stream",
          "name": "stdout",
          "text": [
            "Kelvin a C:  -273.1\n"
          ]
        }
      ]
    },
    {
      "cell_type": "code",
      "source": [
        "c= 27"
      ],
      "metadata": {
        "id": "Adfkli5YnNMh"
      },
      "execution_count": null,
      "outputs": []
    },
    {
      "cell_type": "code",
      "source": [
        "convertirCeaKv = lambda c: (c+273.15)\n",
        "c= float(input(\"ingrese Grado C: \"))\n",
        "print(\"celcius a K: \", convertirCeaKv(c))"
      ],
      "metadata": {
        "colab": {
          "base_uri": "https://localhost:8080/"
        },
        "id": "AQ3D_nWmng6W",
        "outputId": "0374486b-7ef5-4a09-a5e9-8ba425200cfb"
      },
      "execution_count": null,
      "outputs": [
        {
          "output_type": "stream",
          "name": "stdout",
          "text": [
            "ingrese Grado C: 27\n",
            "celcius a K:  300.15\n"
          ]
        }
      ]
    },
    {
      "cell_type": "code",
      "execution_count": null,
      "metadata": {
        "id": "Zy8b_8XXqBeE"
      },
      "outputs": [],
      "source": [
        "edad = int(input(\"Dime tu edad: \"))\n",
        "if(edad<2 ):\n",
        "  print(\"Eres un bebe\")\n",
        "elif(edad<=12):\n",
        "  print(\"Eres un niño\")\n",
        "elif(edad<=18 ):\n",
        "  print(\"Eres un adolescente\")\n",
        "elif(edad<=55):\n",
        "  print(\"Eres un adulto joven\")\n",
        "elif(edad<=65 ):\n",
        "  print(\"Eres un adulto\")\n",
        "elif(edad<=85 ):\n",
        "  print(\"Eres un adulto mayor\")\n",
        "elif(edad<=130):\n",
        "  print(\"Larga vida...\")\n",
        "print(\"termino\")"
      ]
    },
    {
      "cell_type": "code",
      "execution_count": null,
      "metadata": {
        "id": "Cvg0Rj7GxgUJ"
      },
      "outputs": [],
      "source": [
        "nt = int(input(\"Dime la tabla de multiplicar a generar: \"))\n",
        "i=1\n",
        "while i<=10:\n",
        "  print( nt, \"x\",i,\"=\", nt*i )\n",
        "  i+=1"
      ]
    },
    {
      "cell_type": "code",
      "execution_count": null,
      "metadata": {
        "colab": {
          "base_uri": "https://localhost:8080/"
        },
        "id": "XSVzRa1wyGAC",
        "outputId": "825a73e8-7e63-42ba-c02b-62294cdea60c"
      },
      "outputs": [
        {
          "name": "stdout",
          "output_type": "stream",
          "text": [
            "Dime la tabla que deseas generar: 6\n",
            "6 x 1 = 6\n",
            "6 x 2 = 12\n",
            "6 x 3 = 18\n",
            "6 x 4 = 24\n",
            "6 x 5 = 30\n",
            "6 x 6 = 36\n",
            "6 x 7 = 42\n",
            "6 x 8 = 48\n",
            "6 x 9 = 54\n",
            "6 x 10 = 60\n"
          ]
        }
      ],
      "source": [
        "nt = int(input(\"Dime la tabla que deseas generar: \"))\n",
        "for i in range(1,11):\n",
        " print(nt,\"x\",i,\"=\", nt*i)"
      ]
    },
    {
      "cell_type": "code",
      "execution_count": null,
      "metadata": {
        "colab": {
          "background_save": true,
          "base_uri": "https://localhost:8080/"
        },
        "id": "LRtOQUx60QbS",
        "outputId": "3c6db969-dd4a-4701-ed39-dc26d725a885"
      },
      "outputs": [
        {
          "name": "stdout",
          "output_type": "stream",
          "text": [
            "7 x 1 = 7\n",
            "7 x 2 = 14\n"
          ]
        }
      ],
      "source": [
        "S = \"s\"\n",
        "while(S==\"s\"):\n",
        "  nt = int(input(\"Dime una tabla: \"))\n",
        "  for i in range(1,11):\n",
        "    print(nt,\"x\",i,\"=\", nt*i)\n",
        "    s = input(\"Desea continuar presione la tecla s, sino cualquier otra\")"
      ]
    }
  ]
}